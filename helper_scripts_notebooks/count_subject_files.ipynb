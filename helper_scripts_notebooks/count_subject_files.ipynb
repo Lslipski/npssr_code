{
 "cells": [
  {
   "cell_type": "code",
   "execution_count": 1,
   "metadata": {},
   "outputs": [],
   "source": [
    "import numpy as np\n",
    "import pandas as pd\n",
    "\n",
    "import pylab as pl\n",
    "from os.path import join, isfile\n",
    "from os import listdir\n",
    "import os\n",
    "import glob\n",
    "import pickle\n",
    "from collections import Counter\n",
    "import fnmatch\n"
   ]
  },
  {
   "cell_type": "markdown",
   "metadata": {},
   "source": [
    "## Pain Yina Ma Han Citalopram Pain"
   ]
  },
  {
   "cell_type": "code",
   "execution_count": 2,
   "metadata": {},
   "outputs": [],
   "source": [
    "# set path to look for data files\n",
    "data_path = '/Users/lukie/Documents/canlab/NPSSR/NPSSR_contrast_images_local/ma_2016_pain_citalopram/data/'\n",
    "\n",
    "### For Yina Ma type dataset where every file is PainSub+ID\n",
    "### Skip to last cell to see example for Becker 2016 Reward type dataset\n",
    "# prefix is a string that occurs in every datafile name\n",
    "prefix = 'Pain_Sub'\n",
    "num_subjects = 150 # of subjects in study\n",
    "subids = range(num_subjects)\n",
    "files = sorted(glob.glob(data_path +'*'))\n",
    "# ### create list of expected file wildcards to count files that contain these strings\n",
    "prefix_list = [prefix]*num_subjects #there are num_subjects participants in the yina ma study\n",
    "\n",
    "# # left pad numbers for each participant, then zip and join with prefix to create final wildcard_list\n",
    "num_list = []\n",
    "for x in subids:\n",
    "    num_list.append(str(x).zfill(2))\n",
    "wildcard_list = [''.join((pfx,num)) for pfx, num in zip(prefix_list, num_list)]\n",
    "\n"
   ]
  },
  {
   "cell_type": "code",
   "execution_count": 3,
   "metadata": {},
   "outputs": [],
   "source": [
    "### get list of filenames in the target directory to check against list of wildcards to get filecounts per participant\n",
    "sub_files = []\n",
    "for idx, fn in enumerate(files):\n",
    "    sub_files.append(os.path.basename(files[idx]))"
   ]
  },
  {
   "cell_type": "code",
   "execution_count": 4,
   "metadata": {},
   "outputs": [],
   "source": [
    "# append wildcard name to list every time it appears in one of the filenames, to be counted\n",
    "sub_count = []\n",
    "for wildcard in wildcard_list:\n",
    "    for fname in sub_files:\n",
    "        if wildcard in fname:\n",
    "            sub_count.append(wildcard)"
   ]
  },
  {
   "cell_type": "code",
   "execution_count": 5,
   "metadata": {},
   "outputs": [
    {
     "data": {
      "text/plain": [
       "Counter({'Pain_Sub01': 24,\n",
       "         'Pain_Sub02': 24,\n",
       "         'Pain_Sub03': 22,\n",
       "         'Pain_Sub04': 24,\n",
       "         'Pain_Sub05': 23,\n",
       "         'Pain_Sub06': 23,\n",
       "         'Pain_Sub07': 22,\n",
       "         'Pain_Sub08': 24,\n",
       "         'Pain_Sub09': 23,\n",
       "         'Pain_Sub10': 112,\n",
       "         'Pain_Sub11': 24,\n",
       "         'Pain_Sub12': 23,\n",
       "         'Pain_Sub13': 21,\n",
       "         'Pain_Sub14': 21,\n",
       "         'Pain_Sub15': 24,\n",
       "         'Pain_Sub16': 22,\n",
       "         'Pain_Sub17': 23,\n",
       "         'Pain_Sub18': 24,\n",
       "         'Pain_Sub19': 22,\n",
       "         'Pain_Sub20': 23,\n",
       "         'Pain_Sub21': 22,\n",
       "         'Pain_Sub22': 24,\n",
       "         'Pain_Sub23': 23,\n",
       "         'Pain_Sub24': 23,\n",
       "         'Pain_Sub25': 21,\n",
       "         'Pain_Sub26': 23,\n",
       "         'Pain_Sub28': 24,\n",
       "         'Pain_Sub29': 19,\n",
       "         'Pain_Sub30': 22,\n",
       "         'Pain_Sub31': 24,\n",
       "         'Pain_Sub33': 24,\n",
       "         'Pain_Sub34': 22,\n",
       "         'Pain_Sub35': 24,\n",
       "         'Pain_Sub36': 21,\n",
       "         'Pain_Sub37': 22,\n",
       "         'Pain_Sub38': 22,\n",
       "         'Pain_Sub39': 23,\n",
       "         'Pain_Sub40': 22,\n",
       "         'Pain_Sub41': 22,\n",
       "         'Pain_Sub43': 23,\n",
       "         'Pain_Sub44': 22,\n",
       "         'Pain_Sub45': 23,\n",
       "         'Pain_Sub46': 23,\n",
       "         'Pain_Sub47': 24,\n",
       "         'Pain_Sub48': 23,\n",
       "         'Pain_Sub49': 24,\n",
       "         'Pain_Sub51': 23,\n",
       "         'Pain_Sub52': 23,\n",
       "         'Pain_Sub53': 21,\n",
       "         'Pain_Sub54': 23,\n",
       "         'Pain_Sub55': 23,\n",
       "         'Pain_Sub56': 21,\n",
       "         'Pain_Sub57': 23,\n",
       "         'Pain_Sub58': 22,\n",
       "         'Pain_Sub59': 24,\n",
       "         'Pain_Sub60': 24,\n",
       "         'Pain_Sub61': 24,\n",
       "         'Pain_Sub62': 22,\n",
       "         'Pain_Sub63': 23,\n",
       "         'Pain_Sub64': 22,\n",
       "         'Pain_Sub65': 23,\n",
       "         'Pain_Sub66': 22,\n",
       "         'Pain_Sub68': 24,\n",
       "         'Pain_Sub69': 24,\n",
       "         'Pain_Sub70': 22,\n",
       "         'Pain_Sub71': 24,\n",
       "         'Pain_Sub72': 24,\n",
       "         'Pain_Sub73': 24,\n",
       "         'Pain_Sub74': 22,\n",
       "         'Pain_Sub75': 22,\n",
       "         'Pain_Sub76': 23,\n",
       "         'Pain_Sub77': 24,\n",
       "         'Pain_Sub78': 22,\n",
       "         'Pain_Sub79': 21,\n",
       "         'Pain_Sub80': 24,\n",
       "         'Pain_Sub81': 24,\n",
       "         'Pain_Sub82': 23,\n",
       "         'Pain_Sub84': 23,\n",
       "         'Pain_Sub85': 22,\n",
       "         'Pain_Sub86': 21,\n",
       "         'Pain_Sub87': 23,\n",
       "         'Pain_Sub88': 23,\n",
       "         'Pain_Sub89': 23,\n",
       "         'Pain_Sub90': 21,\n",
       "         'Pain_Sub91': 23,\n",
       "         'Pain_Sub92': 23,\n",
       "         'Pain_Sub93': 22,\n",
       "         'Pain_Sub94': 23,\n",
       "         'Pain_Sub95': 22,\n",
       "         'Pain_Sub96': 21,\n",
       "         'Pain_Sub98': 22,\n",
       "         'Pain_Sub99': 21,\n",
       "         'Pain_Sub100': 20,\n",
       "         'Pain_Sub101': 22,\n",
       "         'Pain_Sub102': 23,\n",
       "         'Pain_Sub103': 23})"
      ]
     },
     "execution_count": 5,
     "metadata": {},
     "output_type": "execute_result"
    }
   ],
   "source": [
    "#browse file counts by subject ID\n",
    "Counter(sub_count)"
   ]
  },
  {
   "cell_type": "code",
   "execution_count": 10,
   "metadata": {},
   "outputs": [
    {
     "name": "stdout",
     "output_type": "stream",
     "text": [
      "Pain_Sub01\n",
      "Pain_Sub02\n",
      "Pain_Sub04\n",
      "Pain_Sub08\n",
      "Pain_Sub11\n",
      "Pain_Sub15\n",
      "Pain_Sub18\n",
      "Pain_Sub22\n",
      "Pain_Sub28\n",
      "Pain_Sub31\n",
      "Pain_Sub33\n",
      "Pain_Sub35\n",
      "Pain_Sub47\n",
      "Pain_Sub49\n",
      "Pain_Sub59\n",
      "Pain_Sub60\n",
      "Pain_Sub61\n",
      "Pain_Sub68\n",
      "Pain_Sub69\n",
      "Pain_Sub71\n",
      "Pain_Sub72\n",
      "Pain_Sub73\n",
      "Pain_Sub77\n",
      "Pain_Sub80\n",
      "Pain_Sub81\n",
      "25\n"
     ]
    }
   ],
   "source": [
    "# return subjects who have exactly 24 files, which corresponds to one HDR and one img 3 runs with pain/no-pain and \n",
    "# anticipation/no-anticipation per participant, add to list\n",
    "full_subject_list = []\n",
    "for sub, num_files in Counter(sub_count).items():\n",
    "    if num_files == 24:\n",
    "        full_subject_list.append(sub)\n",
    "        print(sub)\n",
    "print(len(full_subject_list))"
   ]
  },
  {
   "cell_type": "code",
   "execution_count": 11,
   "metadata": {},
   "outputs": [
    {
     "name": "stdout",
     "output_type": "stream",
     "text": [
      "*Pain_Sub03*\n",
      "*Pain_Sub05*\n",
      "*Pain_Sub06*\n",
      "*Pain_Sub07*\n",
      "*Pain_Sub09*\n",
      "*Pain_Sub10*\n",
      "*Pain_Sub12*\n",
      "*Pain_Sub13*\n",
      "*Pain_Sub14*\n",
      "*Pain_Sub16*\n",
      "*Pain_Sub17*\n",
      "*Pain_Sub19*\n",
      "*Pain_Sub20*\n",
      "*Pain_Sub21*\n",
      "*Pain_Sub23*\n",
      "*Pain_Sub24*\n",
      "*Pain_Sub25*\n",
      "*Pain_Sub26*\n",
      "*Pain_Sub29*\n",
      "*Pain_Sub30*\n",
      "*Pain_Sub34*\n",
      "*Pain_Sub36*\n",
      "*Pain_Sub37*\n",
      "*Pain_Sub38*\n",
      "*Pain_Sub39*\n",
      "*Pain_Sub40*\n",
      "*Pain_Sub41*\n",
      "*Pain_Sub43*\n",
      "*Pain_Sub44*\n",
      "*Pain_Sub45*\n",
      "*Pain_Sub46*\n",
      "*Pain_Sub48*\n",
      "*Pain_Sub51*\n",
      "*Pain_Sub52*\n",
      "*Pain_Sub53*\n",
      "*Pain_Sub54*\n",
      "*Pain_Sub55*\n",
      "*Pain_Sub56*\n",
      "*Pain_Sub57*\n",
      "*Pain_Sub58*\n",
      "*Pain_Sub62*\n",
      "*Pain_Sub63*\n",
      "*Pain_Sub64*\n",
      "*Pain_Sub65*\n",
      "*Pain_Sub66*\n",
      "*Pain_Sub70*\n",
      "*Pain_Sub74*\n",
      "*Pain_Sub75*\n",
      "*Pain_Sub76*\n",
      "*Pain_Sub78*\n",
      "*Pain_Sub79*\n",
      "*Pain_Sub82*\n",
      "*Pain_Sub84*\n",
      "*Pain_Sub85*\n",
      "*Pain_Sub86*\n",
      "*Pain_Sub87*\n",
      "*Pain_Sub88*\n",
      "*Pain_Sub89*\n",
      "*Pain_Sub90*\n",
      "*Pain_Sub91*\n",
      "*Pain_Sub92*\n",
      "*Pain_Sub93*\n",
      "*Pain_Sub94*\n",
      "*Pain_Sub95*\n",
      "*Pain_Sub96*\n",
      "*Pain_Sub98*\n",
      "*Pain_Sub99*\n",
      "*Pain_Sub100*\n",
      "*Pain_Sub101*\n",
      "*Pain_Sub102*\n",
      "*Pain_Sub103*\n"
     ]
    }
   ],
   "source": [
    "# return subjects who DO NOT have exactly 24 files, which corresponds to one HDR and one img 3 runs with pain/no-pain and \n",
    "# anticipation/no-anticipation per participant, add to list\n",
    "bad_subject_list = []\n",
    "for sub, num_files in Counter(sub_count).items():\n",
    "    if num_files != 24:\n",
    "        bad_subject_list.append(sub)\n",
    "        print('*' + sub + '*')"
   ]
  },
  {
   "cell_type": "code",
   "execution_count": 13,
   "metadata": {},
   "outputs": [
    {
     "data": {
      "text/plain": [
       "71"
      ]
     },
     "execution_count": 13,
     "metadata": {},
     "output_type": "execute_result"
    }
   ],
   "source": [
    "len(bad_subject_list)"
   ]
  },
  {
   "cell_type": "code",
   "execution_count": 14,
   "metadata": {},
   "outputs": [
    {
     "name": "stdout",
     "output_type": "stream",
     "text": [
      "Number of subjects with 24 files: 25\n"
     ]
    }
   ],
   "source": [
    "# number of subjects with correct number of data files\n",
    "print ('Number of subjects with 24 files: ' + str(len(full_subject_list)))"
   ]
  },
  {
   "cell_type": "code",
   "execution_count": 15,
   "metadata": {},
   "outputs": [
    {
     "data": {
      "text/plain": [
       "['Pain_Sub03',\n",
       " 'Pain_Sub05',\n",
       " 'Pain_Sub06',\n",
       " 'Pain_Sub07',\n",
       " 'Pain_Sub09',\n",
       " 'Pain_Sub10',\n",
       " 'Pain_Sub12',\n",
       " 'Pain_Sub13',\n",
       " 'Pain_Sub14',\n",
       " 'Pain_Sub16',\n",
       " 'Pain_Sub17',\n",
       " 'Pain_Sub19',\n",
       " 'Pain_Sub20',\n",
       " 'Pain_Sub21',\n",
       " 'Pain_Sub23',\n",
       " 'Pain_Sub24',\n",
       " 'Pain_Sub25',\n",
       " 'Pain_Sub26',\n",
       " 'Pain_Sub29',\n",
       " 'Pain_Sub30',\n",
       " 'Pain_Sub34',\n",
       " 'Pain_Sub36',\n",
       " 'Pain_Sub37',\n",
       " 'Pain_Sub38',\n",
       " 'Pain_Sub39',\n",
       " 'Pain_Sub40',\n",
       " 'Pain_Sub41',\n",
       " 'Pain_Sub43',\n",
       " 'Pain_Sub44',\n",
       " 'Pain_Sub45',\n",
       " 'Pain_Sub46',\n",
       " 'Pain_Sub48',\n",
       " 'Pain_Sub51',\n",
       " 'Pain_Sub52',\n",
       " 'Pain_Sub53',\n",
       " 'Pain_Sub54',\n",
       " 'Pain_Sub55',\n",
       " 'Pain_Sub56',\n",
       " 'Pain_Sub57',\n",
       " 'Pain_Sub58',\n",
       " 'Pain_Sub62',\n",
       " 'Pain_Sub63',\n",
       " 'Pain_Sub64',\n",
       " 'Pain_Sub65',\n",
       " 'Pain_Sub66',\n",
       " 'Pain_Sub70',\n",
       " 'Pain_Sub74',\n",
       " 'Pain_Sub75',\n",
       " 'Pain_Sub76',\n",
       " 'Pain_Sub78',\n",
       " 'Pain_Sub79',\n",
       " 'Pain_Sub82',\n",
       " 'Pain_Sub84',\n",
       " 'Pain_Sub85',\n",
       " 'Pain_Sub86',\n",
       " 'Pain_Sub87',\n",
       " 'Pain_Sub88',\n",
       " 'Pain_Sub89',\n",
       " 'Pain_Sub90',\n",
       " 'Pain_Sub91',\n",
       " 'Pain_Sub92',\n",
       " 'Pain_Sub93',\n",
       " 'Pain_Sub94',\n",
       " 'Pain_Sub95',\n",
       " 'Pain_Sub96',\n",
       " 'Pain_Sub98',\n",
       " 'Pain_Sub99',\n",
       " 'Pain_Sub100',\n",
       " 'Pain_Sub101',\n",
       " 'Pain_Sub102',\n",
       " 'Pain_Sub103']"
      ]
     },
     "execution_count": 15,
     "metadata": {},
     "output_type": "execute_result"
    }
   ],
   "source": [
    "bad_subject_list"
   ]
  },
  {
   "cell_type": "markdown",
   "metadata": {},
   "source": [
    "## 2016 Becker Pain Reward"
   ]
  },
  {
   "cell_type": "code",
   "execution_count": 14,
   "metadata": {},
   "outputs": [
    {
     "data": {
      "text/plain": [
       "Counter({'0309': 9,\n",
       "         '0409': 9,\n",
       "         '0605': 9,\n",
       "         '0606': 9,\n",
       "         '0611': 9,\n",
       "         '1001': 9,\n",
       "         '1010': 9,\n",
       "         '1011': 9,\n",
       "         '1110': 9,\n",
       "         '1405': 9,\n",
       "         '1410': 9,\n",
       "         '1501': 9,\n",
       "         '1807': 9,\n",
       "         '1903': 9,\n",
       "         '1911': 9,\n",
       "         '2007': 9,\n",
       "         '2012': 9,\n",
       "         '2207': 9,\n",
       "         '2307': 9,\n",
       "         '2308': 9,\n",
       "         '2504': 9,\n",
       "         '2812': 9,\n",
       "         '2905': 9,\n",
       "         '3011': 9})"
      ]
     },
     "execution_count": 14,
     "metadata": {},
     "output_type": "execute_result"
    }
   ],
   "source": [
    "# set directory to look for files\n",
    "data_path = '/Users/lukie/Documents/canlab/NPSSR/NPSSR_contrast_images_local/2016_Becker_painreward_copes/data/'\n",
    "\n",
    "### For Becker type dataset where every file is ####_TrialType\n",
    "files = sorted(glob.glob(data_path +'*'))\n",
    "### get list of filenames in the target directory to check against list of wildcards to get filecounts per participant\n",
    "sub_files = []\n",
    "for idx, fn in enumerate(files):\n",
    "    sub_files.append(os.path.basename(files[idx]))\n",
    "wildcard_list = []\n",
    "for subject in sub_files:\n",
    "    wildcard_list.append(subject[:4])\n",
    "#browse file counts by subject ID\n",
    "Counter(wildcard_list)"
   ]
  },
  {
   "cell_type": "code",
   "execution_count": 15,
   "metadata": {},
   "outputs": [
    {
     "name": "stdout",
     "output_type": "stream",
     "text": [
      "Number of subjects with 9 files: 24\n"
     ]
    }
   ],
   "source": [
    "# return subjects who have exactly 9 files (becker), which corresponds to 2 per condition of interest, add to list\n",
    "full_subject_list = []\n",
    "for sub, num_files in Counter(wildcard_list).items():\n",
    "    if num_files == 9:\n",
    "        full_subject_list.append(sub)\n",
    "print 'Number of subjects with 9 files: ' +str(len(full_subject_list))"
   ]
  },
  {
   "cell_type": "markdown",
   "metadata": {},
   "source": [
    "## Zeidan Mindfulness 2015"
   ]
  },
  {
   "cell_type": "code",
   "execution_count": 170,
   "metadata": {},
   "outputs": [],
   "source": [
    "# set paths to the four subfolders of interest\n",
    "data_path = '/Users/lukie/Documents/canlab/NPSSR/NPSSR_contrast_images_local/2015_Zeidan_Mindfulness_ASL/data'\n",
    "\n",
    "# manipulations of interest\n",
    "mindfulness = os.path.join(data_path, 'mindfulness_meditation')\n",
    "controls = os.path.join(data_path, 'controls')\n",
    "placebo = os.path.join(data_path, 'placebo_cream')\n",
    "sham = os.path.join(data_path, 'sham_mindfulness')"
   ]
  },
  {
   "cell_type": "markdown",
   "metadata": {},
   "source": [
    "### Number of Participants"
   ]
  },
  {
   "cell_type": "markdown",
   "metadata": {},
   "source": [
    "This study scanned participants for 4 runs, then applied a manipulation (see above), then scanned for another 4 runs. We will look at how many files exist for each participant"
   ]
  },
  {
   "cell_type": "code",
   "execution_count": 160,
   "metadata": {},
   "outputs": [],
   "source": [
    "# python 2, for python3 use glob recursive\n",
    "def zeidan_subjects(directory, pre_post):\n",
    "    if pre_post == 'pre':\n",
    "        file_ext = 'pe2*nii*'\n",
    "    elif pre_post == 'post':\n",
    "        file_ext = 'pe1*nii*'\n",
    "    else:\n",
    "        print 'Error: either enter \"pre\" or \"post\" as second argument'\n",
    "    matches = []\n",
    "    for root, dirnames, filenames in os.walk(directory):\n",
    "        for filename in fnmatch.filter(filenames, file_ext):\n",
    "            matches.append(os.path.join(root, filename))\n",
    "\n",
    "    # get subject wildcards \n",
    "    wildcard_list = []\n",
    "    for match in matches:\n",
    "        one_up, filename = os.path.split(match)\n",
    "        two_up, _ = os.path.split(one_up)\n",
    "        wildcard_list.append(os.path.basename(two_up)[0:8])\n",
    "    return wildcard_list"
   ]
  },
  {
   "cell_type": "markdown",
   "metadata": {},
   "source": [
    "#### Evaluate number of subjects per study"
   ]
  },
  {
   "cell_type": "code",
   "execution_count": 172,
   "metadata": {},
   "outputs": [
    {
     "name": "stdout",
     "output_type": "stream",
     "text": [
      "pre mindfulness: \n",
      "Number of subjects: 16\n",
      "\n",
      "post mindfulness: \n",
      "Number of subjects: 16\n",
      "\n",
      "pre controls: \n",
      "Number of subjects: 19\n",
      "\n",
      "post controls: \n",
      "Number of subjects: 19\n",
      "\n",
      "pre placebo: \n",
      "Number of subjects: 18\n",
      "\n",
      "post placebo: \n",
      "Number of subjects: 18\n",
      "\n",
      "pre sham: \n",
      "Number of subjects: 20\n",
      "\n",
      "post sham: \n",
      "Number of subjects: 20\n",
      "\n"
     ]
    }
   ],
   "source": [
    "manips = [mindfulness, controls, placebo, sham]\n",
    "str_manips = ['mindfulness' , 'controls', 'placebo', 'sham']\n",
    "timings = ['pre', 'post']\n",
    "\n",
    "dicts = []\n",
    "for idx, manip in enumerate(manips):\n",
    "    for timing in timings:\n",
    "        print timing + ' ' + str_manips[idx] + ': '\n",
    "        x = zeidan_subjects(manip, timing)\n",
    "        dicts.append(Counter(x))\n",
    "        print 'Number of subjects: ' + str(len(x))\n",
    "        print ''"
   ]
  },
  {
   "cell_type": "code",
   "execution_count": 179,
   "metadata": {},
   "outputs": [
    {
     "name": "stdout",
     "output_type": "stream",
     "text": [
      "All good! 1 file per subject per condition\n"
     ]
    }
   ],
   "source": [
    "# check to see if any participants have duplicate files\n",
    "count = 0\n",
    "for idx, subj in enumerate(dicts):\n",
    "    for subj, numfiles in subj.items():\n",
    "        if numfiles > 1:\n",
    "            count += 1\n",
    "            print subj + ' from index ' + str(idx)\n",
    "if count == 0:\n",
    "    print 'All good! 1 file per subject per condition'"
   ]
  },
  {
   "cell_type": "code",
   "execution_count": null,
   "metadata": {},
   "outputs": [],
   "source": []
  }
 ],
 "metadata": {
  "kernelspec": {
   "display_name": "Python 3",
   "language": "python",
   "name": "python3"
  },
  "language_info": {
   "codemirror_mode": {
    "name": "ipython",
    "version": 3
   },
   "file_extension": ".py",
   "mimetype": "text/x-python",
   "name": "python",
   "nbconvert_exporter": "python",
   "pygments_lexer": "ipython3",
   "version": "3.7.7"
  }
 },
 "nbformat": 4,
 "nbformat_minor": 2
}
