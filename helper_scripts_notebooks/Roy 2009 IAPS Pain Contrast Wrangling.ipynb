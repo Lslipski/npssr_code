{
 "cells": [
  {
   "cell_type": "markdown",
   "metadata": {},
   "source": [
    "# Roy 2009 IAPS Pain Contrast Wrangling"
   ]
  },
  {
   "cell_type": "markdown",
   "metadata": {},
   "source": [
    "This notebook is going to take the contrast images from each subject for contrasts 5, 10, and 11, and move them all into one of 3 corresponding folders, such that the canlab batch scripts can easily pull these in.\n",
    "\n",
    "##### Contrasts of Interest\n",
    "% 5 -- choc_agreeable/desagreable<br>\n",
    "% 10 -- choc_desagreable/neutre<br>\n",
    "% 11 -- choc_agreable/neutre<br>"
   ]
  },
  {
   "cell_type": "code",
   "execution_count": 82,
   "metadata": {},
   "outputs": [],
   "source": [
    "import os\n",
    "from shutil import copyfile\n",
    "import glob\n",
    "\n",
    "basedir = '/Users/lukie/Documents/canlab/NPSSR/NPSSR_contrast_images_local/roy_2009_iaps_pain/data'\n",
    "betadir = '/Users/lukie/Documents/canlab/NPSSR/NPSSR_contrast_images_local/roy_2009_iaps_pain/data/beta_images'\n",
    "\n",
    "neg_vs_neu = os.path.join(basedir + '/neg_vs_neu/')\n",
    "neg_vs_pos = os.path.join(basedir + '/neg_vs_pos/')\n",
    "pos_vs_neu = os.path.join(basedir + '/pos_vs_neu/')\n",
    "\n",
    "contrasts = {neg_vs_neu: '10',\n",
    "           neg_vs_pos: '05',\n",
    "           pos_vs_neu: '11'}"
   ]
  },
  {
   "cell_type": "code",
   "execution_count": 83,
   "metadata": {},
   "outputs": [],
   "source": [
    "subs = range(2,14)"
   ]
  },
  {
   "cell_type": "code",
   "execution_count": 84,
   "metadata": {},
   "outputs": [
    {
     "name": "stdout",
     "output_type": "stream",
     "text": [
      "/Users/lukie/Documents/canlab/NPSSR/NPSSR_contrast_images_local/roy_2009_iaps_pain/data/neg_vs_neu/\n",
      "/Users/lukie/Documents/canlab/NPSSR/NPSSR_contrast_images_local/roy_2009_iaps_pain/data/neg_vs_pos/\n",
      "/Users/lukie/Documents/canlab/NPSSR/NPSSR_contrast_images_local/roy_2009_iaps_pain/data/pos_vs_neu/\n"
     ]
    }
   ],
   "source": [
    "for contrast in contrasts:\n",
    "    print(contrast)"
   ]
  },
  {
   "cell_type": "code",
   "execution_count": 94,
   "metadata": {},
   "outputs": [],
   "source": [
    "# loop through each subjet's beta folder\n",
    "for contrast in contrasts:\n",
    "    for sub in subs:\n",
    "        this_img = os.path.join(betadir, 'subject'+ str(sub)+'/AR1_avecratings_18sec_Oct2008/con_00'+contrasts[contrast]+'.img')\n",
    "        this_hdr = os.path.join(betadir, 'subject'+ str(sub)+'/AR1_avecratings_18sec_Oct2008/con_00'+contrasts[contrast]+'.hdr')\n",
    "        copyfile(this_img, contrast+'sub'+str(sub)+'_''con_00'+contrasts[contrast]+'.img')\n",
    "        copyfile(this_hdr, contrast+'sub'+str(sub)+'_''con_00'+contrasts[contrast]+'.hdr')"
   ]
  }
 ],
 "metadata": {
  "kernelspec": {
   "display_name": "Python 3",
   "language": "python",
   "name": "python3"
  },
  "language_info": {
   "codemirror_mode": {
    "name": "ipython",
    "version": 3
   },
   "file_extension": ".py",
   "mimetype": "text/x-python",
   "name": "python",
   "nbconvert_exporter": "python",
   "pygments_lexer": "ipython3",
   "version": "3.7.7"
  }
 },
 "nbformat": 4,
 "nbformat_minor": 4
}
